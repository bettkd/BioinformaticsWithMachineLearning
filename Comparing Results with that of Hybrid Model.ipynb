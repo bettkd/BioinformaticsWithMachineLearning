{
 "cells": [
  {
   "cell_type": "markdown",
   "metadata": {},
   "source": [
    "## Comparing Results\n",
    "We need to compare our results from machine learning to the previously results achieved through Hybrid Model"
   ]
  },
  {
   "cell_type": "code",
   "execution_count": 1,
   "metadata": {},
   "outputs": [
    {
     "name": "stdout",
     "output_type": "stream",
     "text": [
      "Shape HMdata:  (265L, 2L)\n",
      "Shape MLData:  (287L, 2L)\n"
     ]
    }
   ],
   "source": [
    "#Read dataset\n",
    "from pandas import read_csv\n",
    "import numpy as np\n",
    "\n",
    "fileName1 = 'Data/Results/MissingPPIsResultsFromHybridModel.txt'\n",
    "fileName2 = 'Data/Results/PredictionResultsPPIs.txt'\n",
    "names = ['Prot1', 'Prot2']\n",
    "resultsFromHybridModel = read_csv(fileName1, delimiter='\\t', names=names)\n",
    "resultsFromMachineLearning = read_csv(fileName2, delimiter='\\t', names=names)\n",
    "\n",
    "HMData = np.array(resultsFromHybridModel.values)\n",
    "MLData = np.array(resultsFromMachineLearning.values)\n",
    "\n",
    "print 'Shape HMdata: ', HMData.shape\n",
    "print 'Shape MLData: ', MLData.shape"
   ]
  },
  {
   "cell_type": "code",
   "execution_count": 2,
   "metadata": {},
   "outputs": [
    {
     "name": "stdout",
     "output_type": "stream",
     "text": [
      "PPIs common in both HM and ML:\n",
      "[['CCL26' 'CSF2']\n",
      " ['CCR8' 'IL12A']\n",
      " ['IL13RA1' 'IL3']\n",
      " ['CSF3R' 'IL13']\n",
      " ['GATA3' 'IL5RA']\n",
      " ['IL17RB' 'STAT6']\n",
      " ['MAF' 'STAT5A']\n",
      " ['IL13RA1' 'IL5RA']\n",
      " ['CCR4' 'STAT5A']\n",
      " ['CCL11' 'CCL8']\n",
      " ['CCL24' 'IL5RA']\n",
      " ['IL5RA' 'RETNLB']\n",
      " ['CCL26' 'IL3RA']\n",
      " ['IFNGR2' 'IL3']\n",
      " ['CCR3' 'IL13RA1']\n",
      " ['CCL24' 'GATA3']\n",
      " ['ICOS' 'STAT5A']\n",
      " ['IL25' 'IL3RA']\n",
      " ['CCL5' 'ICOS']\n",
      " ['CCL24' 'FOXP3']\n",
      " ['CRLF2' 'GATA3']\n",
      " ['CSF2' 'RETNLB']\n",
      " ['CCL26' 'IL25']\n",
      " ['CCR3' 'STAT5A']\n",
      " ['CSF3R' 'IL13RA1']\n",
      " ['GATA3' 'IFNGR2']]\n",
      "Shape:  (26L, 2L)\n"
     ]
    }
   ],
   "source": [
    "# Intersect the two results to find PPI predictions common between both prediction methodologies\n",
    "_MLData = ['\\t'.join(ppi) for ppi in np.sort(MLData)]\n",
    "_HMData = ['\\t'.join(ppi) for ppi in np.sort(HMData)]\n",
    "\n",
    "intersection = list(set(_MLData) & set(_HMData))\n",
    "\n",
    "commonMissingPPIs = np.array([ppi.split('\\t') for ppi in intersection])\n",
    "print 'PPIs common in both HM and ML:\\n', commonMissingPPIs\n",
    "print 'Shape: ', commonMissingPPIs.shape"
   ]
  },
  {
   "cell_type": "code",
   "execution_count": 3,
   "metadata": {},
   "outputs": [
    {
     "name": "stdout",
     "output_type": "stream",
     "text": [
      "Percentage of Common Missing PPIs to the Hybrid Model: 9.00%\n"
     ]
    }
   ],
   "source": [
    "print ('Percentage of Common Missing PPIs to the Hybrid Model: %.2f%%' % (len(commonMissingPPIs) * 100 / len(HMData)))"
   ]
  },
  {
   "cell_type": "markdown",
   "metadata": {},
   "source": [
    "## Conclusion\n",
    "\n",
    "* The number of predicted PPIs common to both methodologies (Hybrid Model and Machine Learning) is too small\n",
    "* Therefore, Machine Learning may not be sufficient to validate the accuracy of the Hybrid Model or vice versa\n",
    "* The ML resuts are based on a Machine Learning model with very low accuracy\n",
    "* This is due to the fact that the model learned from only two features, which may be mostly white noise"
   ]
  }
 ],
 "metadata": {
  "kernelspec": {
   "display_name": "Python 2",
   "language": "python",
   "name": "python2"
  },
  "language_info": {
   "codemirror_mode": {
    "name": "ipython",
    "version": 2
   },
   "file_extension": ".py",
   "mimetype": "text/x-python",
   "name": "python",
   "nbconvert_exporter": "python",
   "pygments_lexer": "ipython2",
   "version": "2.7.13"
  }
 },
 "nbformat": 4,
 "nbformat_minor": 2
}
