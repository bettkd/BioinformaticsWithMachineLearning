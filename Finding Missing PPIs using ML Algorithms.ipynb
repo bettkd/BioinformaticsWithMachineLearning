{
 "cells": [
  {
   "cell_type": "markdown",
   "metadata": {},
   "source": [
    "## Spot-checking Classification Algorithms\n",
    "Discovering which algorithms perform well on our machine learning problem. \n",
    "\n",
    "### Algorithms\n",
    "\n",
    "Linear machine learning algorithms:\n",
    "* Logistic Regression.\n",
    "* Linear Discriminant Analysis.\n",
    "\n",
    "Non-linear machine learning algorithms:\n",
    "* k-Nearest Neighbors.\n",
    "* Naive Bayes.\n",
    "* Classification and Regression Trees.\n",
    "* Support Vector Machines."
   ]
  },
  {
   "cell_type": "code",
   "execution_count": 1,
   "metadata": {},
   "outputs": [
    {
     "name": "stdout",
     "output_type": "stream",
     "text": [
      "(1425, 3)\n"
     ]
    }
   ],
   "source": [
    "#Read dataset\n",
    "from pandas import read_csv\n",
    "import pandas as pd\n",
    "import numpy as np\n",
    "np.set_printoptions(threshold=5)\n",
    "np.set_printoptions(precision=2)\n",
    "\n",
    "fileName = 'Data/Processed/Numerized_Allergy_and_Asthma.txt'\n",
    "names = ['Prot1', 'Prot2', 'Score']\n",
    "ppiData = read_csv(fileName, delimiter='\\t', names=names)\n",
    "\n",
    "ppiList = ppiData.values\n",
    "\n",
    "X = ppiList[:, 0:2]\n",
    "Y = ppiList[:, 2]\n",
    "\n",
    "print(ppiData.shape)"
   ]
  },
  {
   "cell_type": "code",
   "execution_count": 2,
   "metadata": {
    "collapsed": true
   },
   "outputs": [],
   "source": [
    "# No need for preprocessing (Scaling, Standardizing, Normalizing)\n",
    "# because the X values are all same units representing proteins\n",
    "\n",
    "\n",
    "# Split K data into train and test sets using KFold\n",
    "from sklearn.model_selection import KFold\n",
    "from sklearn.model_selection import cross_val_score\n",
    "\n",
    "seed = 7 # purely random number\n",
    "splits = 38 # Arbitrary number from intutition - sqrt(N), where N=Number of datasets\n",
    "kfold = KFold(n_splits=38, random_state=seed)"
   ]
  },
  {
   "cell_type": "markdown",
   "metadata": {},
   "source": [
    "## Linear Machine Learning Algorithms\n",
    "This section demonstrates minimal recipes for how to use two linear machine learning algorithms: logistic regression and linear discriminant analysis.\n",
    "\n",
    "### Logistic Regression\n",
    "Logistic regression assumes a Gaussian distribution for the numeric input variables and can model binary classification problems. You can construct a logistic regression model using the LogisticRegression class.\n",
    "http://scikit-learn.org/stable/modules/generated/sklearn.linear_model.LogisticRegression.html"
   ]
  },
  {
   "cell_type": "code",
   "execution_count": 3,
   "metadata": {},
   "outputs": [
    {
     "name": "stdout",
     "output_type": "stream",
     "text": [
      "Accuracy: 22.97%\tSigma: 0.41\n"
     ]
    }
   ],
   "source": [
    "# Logistic Regression Classification\n",
    "from sklearn.linear_model import LogisticRegression\n",
    "\n",
    "model = LogisticRegression()\n",
    "results = cross_val_score(model, X, Y, cv=kfold)\n",
    "print('Accuracy: %.2f%%\\tSigma: %.2f' % (results.mean()*100, results.std()))"
   ]
  },
  {
   "cell_type": "markdown",
   "metadata": {},
   "source": [
    "### Linear Discriminant Analysis\n",
    "Linear Discriminant Analysis or LDA is a statistical technique for binary and multiclass classification. It too assumes a Gaussian distribution for the numerical input variables. You can construct an LDA model using the LinearDiscriminantAnalysis class.\n",
    "http://scikit-learn.org/stable/modules/generated/sklearn.discriminant_analysis.LinearDiscriminantAnalysis.html### Logistic Regression\n",
    "\n",
    "Logistic regression assumes a Gaussian distribution for the numeric input variables and can model binary classification problems. You can construct a logistic regression model using the LogisticRegression class."
   ]
  },
  {
   "cell_type": "code",
   "execution_count": 4,
   "metadata": {},
   "outputs": [
    {
     "name": "stdout",
     "output_type": "stream",
     "text": [
      "Accuracy: 22.97%\tSigma: 0.41\n"
     ]
    },
    {
     "name": "stderr",
     "output_type": "stream",
     "text": [
      "C:\\Users\\Dominic_Bett\\AppData\\Local\\Continuum\\Anaconda2\\lib\\site-packages\\sklearn\\discriminant_analysis.py:455: UserWarning: The priors do not sum to 1. Renormalizing\n",
      "  UserWarning)\n"
     ]
    }
   ],
   "source": [
    "# LDA Classification\n",
    "from sklearn.discriminant_analysis import LinearDiscriminantAnalysis\n",
    "\n",
    "model = LinearDiscriminantAnalysis()\n",
    "results = cross_val_score(model, X, Y, cv=kfold)\n",
    "print('Accuracy: %.2f%%\\tSigma: %.2f' % (results.mean()*100, results.std()))"
   ]
  },
  {
   "cell_type": "markdown",
   "metadata": {},
   "source": [
    "## Nonlinear Machine Learning Algorithms\n",
    "This section demonstrates minimal recipes for how to use 4 nonlinear machine learning algorithms.\n",
    "\n",
    "### k-Nearest Neighbors\n",
    "The k-Nearest Neighbors algorithm (or KNN) uses a distance metric to find the k most similar instances in the training data for a new instance and takes the mean outcome of the neighbors as the prediction. You can construct a KNN model using the KNeighborsClassifier class.\n",
    "http://scikit-learn.org/stable/modules/generated/sklearn.neighbors.KNeighborsClassifier.html"
   ]
  },
  {
   "cell_type": "code",
   "execution_count": 5,
   "metadata": {},
   "outputs": [
    {
     "name": "stdout",
     "output_type": "stream",
     "text": [
      "Accuracy: 14.80%\tSigma: 0.12\n"
     ]
    }
   ],
   "source": [
    "# KNN Classification\n",
    "from sklearn.neighbors import KNeighborsClassifier\n",
    "\n",
    "model = KNeighborsClassifier()\n",
    "results = cross_val_score(model, X, Y, cv=kfold)\n",
    "print('Accuracy: %.2f%%\\tSigma: %.2f' % (results.mean()*100, results.std()))"
   ]
  },
  {
   "cell_type": "markdown",
   "metadata": {},
   "source": [
    "### Naive Bayes\n",
    "Naive Bayes calculates the probability of each class and the conditional probability of each class given each input value. These probabilities are estimated for new data and multiplied together, assuming that they are all independent (a simple or naive assumption). When working with real-valued data, a Gaussian distribution is assumed to easily estimate the probabilities for input variables using the Gaussian Probability Density Function. You can construct a Naive Bayes model using the GaussianNB class.\n",
    "http://scikit-learn.org/stable/modules/generated/sklearn.naive_bayes.GaussianNB.html"
   ]
  },
  {
   "cell_type": "code",
   "execution_count": 6,
   "metadata": {},
   "outputs": [
    {
     "name": "stdout",
     "output_type": "stream",
     "text": [
      "Accuracy: 20.70%\tSigma: 0.37\n"
     ]
    }
   ],
   "source": [
    "# Gaussian Naive Bayes Classification\n",
    "from sklearn.naive_bayes import GaussianNB\n",
    "\n",
    "model = GaussianNB()\n",
    "results = cross_val_score(model, X, Y, cv=kfold)\n",
    "print('Accuracy: %.2f%%\\tSigma: %.2f' % (results.mean()*100, results.std()))"
   ]
  },
  {
   "cell_type": "markdown",
   "metadata": {},
   "source": [
    "### Classification and Regression Trees\n",
    "\n",
    "Classification and Regression Trees (CART or just decision trees) construct a binary tree from the training data. Split points are chosen greedily by evaluating each attribute and each value of each attribute in the training data in order to minimize a cost function (like the Gini index). You can construct a CART model using the DecisionTreeClassifier class.\n",
    "http://scikit-learn.org/stable/modules/generated/sklearn.tree.DecisionTreeClassifier.html"
   ]
  },
  {
   "cell_type": "code",
   "execution_count": 7,
   "metadata": {},
   "outputs": [
    {
     "name": "stdout",
     "output_type": "stream",
     "text": [
      "Accuracy: 14.20%\tSigma: 0.08\n"
     ]
    }
   ],
   "source": [
    "# CART Classification\n",
    "from sklearn.tree import DecisionTreeClassifier\n",
    "\n",
    "model = DecisionTreeClassifier()\n",
    "results = cross_val_score(model, X, Y, cv=kfold)\n",
    "print('Accuracy: %.2f%%\\tSigma: %.2f' % (results.mean()*100, results.std()))"
   ]
  },
  {
   "cell_type": "markdown",
   "metadata": {},
   "source": [
    "### Support Vector Machines\n",
    "\n",
    "Support Vector Machines (or SVM) seek a line that best separates two classes. Those data instances that are closest to the line that best separates the classes are called support vectors and influence where the line is placed. SVM has been extended to support multiple classes. Of particular importance is the use of different kernel functions via the kernel parameter. A powerful Radial Basis Function is used by default. You can construct an SVM model using the SVC class.\n",
    "http://scikit-learn.org/stable/modules/generated/sklearn.svm.SVC.html"
   ]
  },
  {
   "cell_type": "code",
   "execution_count": 8,
   "metadata": {},
   "outputs": [
    {
     "name": "stdout",
     "output_type": "stream",
     "text": [
      "Accuracy: 19.73%\tSigma: 0.25\n"
     ]
    }
   ],
   "source": [
    "# SVM Classification\n",
    "from sklearn.svm import SVC\n",
    "\n",
    "model = SVC()\n",
    "results = cross_val_score(model, X, Y, cv=kfold)\n",
    "print('Accuracy: %.2f%%\\tSigma: %.2f' % (results.mean()*100, results.std()))"
   ]
  },
  {
   "cell_type": "markdown",
   "metadata": {},
   "source": [
    "## Compare Machine Learning Algorithms\n",
    "\n",
    "It is important to compare the performance of multiple different machine learning algorithms consistently.\n",
    "Each model has different performance characteristics. Using resampling methods like cross-validation, we can get an estimate for how accurate each model may be on unseen data. We need to be able to use these estimates to choose one or two best models from the suite of models that we have created."
   ]
  },
  {
   "cell_type": "code",
   "execution_count": 9,
   "metadata": {},
   "outputs": [
    {
     "name": "stdout",
     "output_type": "stream",
     "text": [
      "LR:\tAccuracy: 22.97%\t Sigma: 0.41\n",
      "LDA:\tAccuracy: 22.97%\t Sigma: 0.41\n",
      "KNN:\tAccuracy: 14.80%\t Sigma: 0.12\n",
      "CART:\tAccuracy: 13.64%\t Sigma: 0.09\n",
      "NB:\tAccuracy: 20.70%\t Sigma: 0.37\n",
      "SVM:\tAccuracy: 19.73%\t Sigma: 0.25\n"
     ]
    },
    {
     "data": {
      "image/png": "[encoded data removed]",
      "text/plain": [
       "<matplotlib.figure.Figure at 0xbe9d470>"
      ]
     },
     "metadata": {},
     "output_type": "display_data"
    }
   ],
   "source": [
    "# Compare Algorithms\n",
    "from matplotlib import pyplot\n",
    "\n",
    "models = []\n",
    "models.append(('LR', LogisticRegression()))\n",
    "models.append(('LDA', LinearDiscriminantAnalysis()))\n",
    "models.append(('KNN', KNeighborsClassifier()))\n",
    "models.append(('CART', DecisionTreeClassifier()))\n",
    "models.append(('NB', GaussianNB()))\n",
    "models.append(('SVM', SVC()))\n",
    "\n",
    "results = []\n",
    "names = []\n",
    "scoring = 'accuracy'\n",
    "for name, model in models:\n",
    "    cv_results = cross_val_score(model, X, Y, cv=kfold, scoring=scoring)\n",
    "    results.append(cv_results)\n",
    "    names.append(name)\n",
    "    msg = \"%s:\\tAccuracy: %.2f%%\\t Sigma: %.2f\" % (name, cv_results.mean()*100, cv_results.std())\n",
    "    print(msg)\n",
    "\n",
    "# boxplot algorithm comparison\n",
    "fig = pyplot.figure()\n",
    "fig.suptitle('Algorithm Comparison')\n",
    "ax = fig.add_subplot(111)\n",
    "pyplot.boxplot(results)\n",
    "ax.set_xticklabels(names)\n",
    "pyplot.show()"
   ]
  },
  {
   "cell_type": "markdown",
   "metadata": {},
   "source": [
    "## Bagging Algorithms\n",
    "Bootstrap Aggregation (or Bagging) involves taking multiple samples from your training dataset (with replacement) and training a model for each sample. The final output prediction is averaged across the predictions of all of the sub-models. The three bagging models covered in this section are as follows:\n",
    "* Bagged Decision Trees.\n",
    "* Random Forest.\n",
    "* Extra Trees.\n",
    "\n",
    "### Bagged Decision Trees\n",
    "15.2.1 Bagged Decision Trees Bagging performs best with algorithms that have high variance. A popular example are decision trees, often constructed without pruning. In the example below is an example of using the BaggingClassifier with the Classification and Regression Trees algorithm (DecisionTreeClassifier). A total of 100 trees are created.\n",
    "Running the example, we get a robust estimate of model accuracy.\n",
    "http://scikit-learn.org/stable/modules/generated/sklearn.ensemble.BaggingClassifier.html"
   ]
  },
  {
   "cell_type": "code",
   "execution_count": 10,
   "metadata": {},
   "outputs": [
    {
     "name": "stdout",
     "output_type": "stream",
     "text": [
      "Accuracy: 16.61%\tSigma: 0.12\n"
     ]
    }
   ],
   "source": [
    "# Bagged Decision Trees for Classification\n",
    "from sklearn.ensemble import BaggingClassifier\n",
    "from sklearn.tree import DecisionTreeClassifier\n",
    "\n",
    "cart = DecisionTreeClassifier()\n",
    "num_trees = 50\n",
    "model = BaggingClassifier(base_estimator=cart, n_estimators=num_trees, random_state=seed)\n",
    "results = cross_val_score(model, X, Y, cv=kfold)\n",
    "print('Accuracy: %.2f%%\\tSigma: %.2f' % (results.mean()*100, results.std()))"
   ]
  },
  {
   "cell_type": "markdown",
   "metadata": {},
   "source": [
    "### Random Forest\n",
    "Random Forests is an extension of bagged decision trees. Samples of the training dataset are taken with replacement, but the trees are constructed in a way that reduces the correlation between individual classifiers. Specifically, rather than greedily choosing the best split point in the construction of each tree, only a random subset of features are considered for each split. You can construct a Random Forest model for classification using the RandomForestClassifier class. The example below demonstrates using Random Forest for classification with 100 trees and split points chosen from a random selection of 3 features.\n",
    "http://scikit-learn.org/stable/modules/generated/sklearn.ensemble.RandomForestClassifier.html\n",
    "Running the example provides a mean estimate of classification accuracy."
   ]
  },
  {
   "cell_type": "code",
   "execution_count": 11,
   "metadata": {},
   "outputs": [
    {
     "name": "stdout",
     "output_type": "stream",
     "text": [
      "Accuracy: 15.54%\tSigma: 0.11\n"
     ]
    }
   ],
   "source": [
    "# Random Forest Classification\n",
    "from sklearn.ensemble import RandomForestClassifier\n",
    "max_features = 2\n",
    "model = RandomForestClassifier(n_estimators=num_trees, max_features=max_features)\n",
    "results = cross_val_score(model, X, Y, cv=kfold)\n",
    "print('Accuracy: %.2f%%\\tSigma: %.2f' % (results.mean()*100, results.std()))"
   ]
  },
  {
   "cell_type": "markdown",
   "metadata": {},
   "source": [
    "### Extra Trees\n",
    "Extra Trees are another modification of bagging where random trees are constructed from samples of the training dataset. You can construct an Extra Trees model for classification using the ExtraTreesClassifier class. The example below provides a demonstration of extra trees with the number of trees set to 100 and splits chosen from 7 random features.\n",
    "http://scikit-learn.org/stable/modules/generated/sklearn.ensemble.ExtraTreesClassifier.html\n",
    "Running the example provides a mean estimate of classification accuracy."
   ]
  },
  {
   "cell_type": "code",
   "execution_count": 12,
   "metadata": {},
   "outputs": [
    {
     "name": "stdout",
     "output_type": "stream",
     "text": [
      "Accuracy: 16.46%\tSigma: 0.12\n"
     ]
    }
   ],
   "source": [
    "# Extra Trees Classification\n",
    "from sklearn.ensemble import ExtraTreesClassifier\n",
    "\n",
    "model = ExtraTreesClassifier(n_estimators=num_trees, max_features=max_features)\n",
    "results = cross_val_score(model, X, Y, cv=kfold)\n",
    "print('Accuracy: %.2f%%\\tSigma: %.2f' % (results.mean()*100, results.std()))"
   ]
  },
  {
   "cell_type": "markdown",
   "metadata": {},
   "source": [
    "## Boosting Algorithms\n",
    "Boosting ensemble algorithms creates a sequence of models that attempt to correct the mistakes of the models before them in the sequence. Once created, the models make predictions which may be weighted by their demonstrated accuracy and the results are combined to create a final output prediction. The two most common boosting ensemble machine learning algorithms are:\n",
    "* AdaBoost.\n",
    "* Stochastic Gradient Boosting.\n",
    "\n",
    "### AdaBoost\n",
    "AdaBoost was perhaps the first successful boosting ensemble algorithm. It generally works by weighting instances in the dataset by how easy or difficult they are to classify, allowing the algorithm to pay less attention to them in the construction of subsequent models. You can construct an AdaBoost model for classification using the AdaBoostClassifier class4 . The example below demonstrates the construction of 30 decision trees in sequence using the AdaBoost algorithm."
   ]
  },
  {
   "cell_type": "code",
   "execution_count": 13,
   "metadata": {},
   "outputs": [
    {
     "name": "stdout",
     "output_type": "stream",
     "text": [
      "Accuracy: 21.47%\tSigma: 0.26\n"
     ]
    }
   ],
   "source": [
    "# AdaBoost Classification\n",
    "from sklearn.ensemble import AdaBoostClassifier\n",
    "\n",
    "model = AdaBoostClassifier(n_estimators=num_trees, random_state=seed)\n",
    "results = cross_val_score(model, X, Y, cv=kfold)\n",
    "print('Accuracy: %.2f%%\\tSigma: %.2f' % (results.mean()*100, results.std()))"
   ]
  },
  {
   "cell_type": "markdown",
   "metadata": {},
   "source": [
    "### Stochastic Gradient Boosting\n",
    "\n",
    "Stochastic Gradient Boosting (also called Gradient Boosting Machines) are one of the most sophisticated ensemble techniques. It is also a technique that is proving to be perhaps one of the best techniques available for improving performance via ensembles. You can construct a Gradient Boosting model for classification using the GradientBoostingClassifier class. The example below demonstrates Stochastic Gradient Boosting for classification with 100 trees."
   ]
  },
  {
   "cell_type": "code",
   "execution_count": 14,
   "metadata": {},
   "outputs": [
    {
     "name": "stdout",
     "output_type": "stream",
     "text": [
      "Accuracy: 21.52%\tSigma: 0.24\n"
     ]
    }
   ],
   "source": [
    "# Stochastic Gradient Boosting Classification\n",
    "from sklearn.ensemble import GradientBoostingClassifier\n",
    "\n",
    "model = GradientBoostingClassifier(n_estimators=num_trees, random_state=seed)\n",
    "results = cross_val_score(model, X, Y, cv=kfold)\n",
    "print('Accuracy: %.2f%%\\tSigma: %.2f' % (results.mean()*100, results.std()))"
   ]
  },
  {
   "cell_type": "markdown",
   "metadata": {},
   "source": [
    "### Voting Ensemble\n",
    "\n",
    "Voting is one of the simplest ways of combining the predictions from multiple machine learning algorithms. It works by first creating two or more standalone models from your training dataset. A Voting Classifier can then be used to wrap your models and average the predictions of the sub-models when asked to make predictions for new data. The predictions of the sub-models can be weighted, but specifying the weights for classifiers manually or even heuristically is difficult. More advanced methods can learn how to best weight the predictions from sub-models, but this is called stacking (stacked aggregation) and is currently not provided in scikit-learn.\n",
    "\n",
    "You can create a voting ensemble model for classification using the VotingClassifier class. The code below provides an example of combining the predictions of logistic regression, classification and regression trees and support vector machines together for a classification problem\n",
    "http://scikit-learn.org/stable/modules/generated/sklearn.ensemble.VotingClassifier.html"
   ]
  },
  {
   "cell_type": "code",
   "execution_count": 15,
   "metadata": {},
   "outputs": [
    {
     "name": "stdout",
     "output_type": "stream",
     "text": [
      "Accuracy: 22.40%\tSigma: 0.40\n"
     ]
    }
   ],
   "source": [
    "# Voting Ensemble for Classification\n",
    "from sklearn.ensemble import VotingClassifier\n",
    "\n",
    "# create the sub models\n",
    "estimators = []\n",
    "estimators.append(('LR', LogisticRegression()))\n",
    "estimators.append(('LDA', LinearDiscriminantAnalysis()))\n",
    "estimators.append(('KNN', KNeighborsClassifier()))\n",
    "estimators.append(('CART', DecisionTreeClassifier()))\n",
    "estimators.append(('NB', GaussianNB()))\n",
    "estimators.append(('SVM', SVC()))\n",
    "\n",
    "# create the ensemble model\n",
    "ensemble = VotingClassifier(estimators)\n",
    "results = cross_val_score(ensemble, X, Y, cv=kfold)\n",
    "print('Accuracy: %.2f%%\\tSigma: %.2f' % (results.mean()*100, results.std()))"
   ]
  },
  {
   "cell_type": "markdown",
   "metadata": {},
   "source": [
    "##### As a bonus...\n",
    "### Neural network\n",
    "\n",
    "Class MLPClassifier implements a multi-layer perceptron (MLP) algorithm that trains using Backpropagation.\n",
    "\n",
    "http://scikit-learn.org/stable/modules/neural_networks_supervised.html"
   ]
  },
  {
   "cell_type": "code",
   "execution_count": 16,
   "metadata": {},
   "outputs": [
    {
     "name": "stdout",
     "output_type": "stream",
     "text": [
      "Accuracy: 13.50%\tSigma: 0.23\n"
     ]
    }
   ],
   "source": [
    "#Neural network Classification\n",
    "from sklearn.neural_network import MLPClassifier\n",
    "\n",
    "model = MLPClassifier(random_state=7)\n",
    "results = cross_val_score(model, X, Y, cv=kfold)\n",
    "print('Accuracy: %.2f%%\\tSigma: %.2f' % (results.mean()*100, results.std()))"
   ]
  },
  {
   "cell_type": "markdown",
   "metadata": {},
   "source": [
    "## Summary\n",
    "\n",
    "* Preprocessing not needed for this particular dataset\n",
    "* KFold Validation is the preffered method of checking the accuracy of our prediction models\n",
    "* All models performed dismally given the fact that we are predicting against using only two features: Prot1 & Prot2\n",
    "* ML Algorithm categories (Regression algorithms, Classification algorithms) were evaluated\n",
    "* Although Linear algorithms (LR & LDA) outperformed the rest, my choice for the best algorithm for this ML task is ```Stochastic Gradient Boosting```\n",
    "* This algorithm is a Boosting algorithm, meaning it learns from the mistakes of the its models and corrects itself, I think it is the most to make our predictions\n",
    "* There could be arguements to support other perspectives on this as well"
   ]
  },
  {
   "cell_type": "markdown",
   "metadata": {},
   "source": [
    "## Making the Prediction\n",
    "Now we need to use Machine Learning to make predictions for Missing PPIs\n",
    "In this case, we will use ```Stochastic Gradient Boosting Classifier``` since it showed great promise\n",
    "You can as well use any prediction model\n",
    "We will fit our chosen model with the actual values and make predictions on Non PPI values\n",
    "Note that the model is just about 22% accurate :("
   ]
  },
  {
   "cell_type": "code",
   "execution_count": 17,
   "metadata": {},
   "outputs": [
    {
     "name": "stdout",
     "output_type": "stream",
     "text": [
      "Non PPI (Numerized) List:\n",
      "[[32 54]\n",
      " [21 28]\n",
      " [ 4 36]\n",
      " ..., \n",
      " [ 8 80]\n",
      " [28 51]\n",
      " [27 75]]\n",
      "Shape:  (2737L, 2L)\n"
     ]
    }
   ],
   "source": [
    "# Read Non-PPI Dataset (Numerized) on which we predict upon\n",
    "fileName = 'Data/Processed/Numerized_Allergy_and_Asthma_nonPPIs.txt'\n",
    "names = ['Prot1', 'Prot2']\n",
    "nonPPIDataNumerized = read_csv(fileName, delimiter='\\t', names=names)\n",
    "\n",
    "nonPPINumerizedList = nonPPIDataNumerized.values\n",
    "print 'Non PPI (Numerized) List:\\n', nonPPINumerizedList\n",
    "print 'Shape: ', nonPPINumerizedList.shape"
   ]
  },
  {
   "cell_type": "code",
   "execution_count": 18,
   "metadata": {},
   "outputs": [
    {
     "name": "stdout",
     "output_type": "stream",
     "text": [
      "Non PPI (Numerized) List:\n",
      "[['RNASE3' 'TPSAB1']\n",
      " ['RETNLB' 'CSF3R']\n",
      " ['PDCD1' 'IL5']\n",
      " ..., \n",
      " ['CCL2' 'CYSLTR1']\n",
      " ['CCL8' 'CSF3R']\n",
      " ['CCR8' 'SIGLEC8']]\n",
      "Shape:  (2737L, 2L)\n"
     ]
    }
   ],
   "source": [
    "# Read the actual Non-PPI Dataset so we can use it to save the reslts\n",
    "fileName = 'Data/Processed/Allergy_and_Asthma_nonPPIs.txt'\n",
    "names = ['Prot1', 'Prot2']\n",
    "nonPPIData = read_csv(fileName, delimiter='\\t', names=names)\n",
    "\n",
    "nonPPIList = nonPPIData.values\n",
    "print 'Non PPI (Numerized) List:\\n', nonPPIList\n",
    "print 'Shape: ', nonPPIList.shape"
   ]
  },
  {
   "cell_type": "code",
   "execution_count": 19,
   "metadata": {
    "scrolled": true
   },
   "outputs": [
    {
     "name": "stdout",
     "output_type": "stream",
     "text": [
      "Predicted PPI List:\n",
      "[['IL13RA1' 'IL3']\n",
      " ['PDCD1' 'PMCH']\n",
      " ['CCL2' 'ADRB2']\n",
      " ..., \n",
      " ['STAT5A' 'IL25']\n",
      " ['IL1RL1' 'CCL26']\n",
      " ['CCR8' 'SIGLEC8']]\n",
      "Shape:  (287L, 2L)\n"
     ]
    }
   ],
   "source": [
    "# Make the predictions and save the results in file\n",
    "model = GradientBoostingClassifier(n_estimators=num_trees, random_state=seed)\n",
    "model.fit(X,Y) #fit model with actual PPI values\n",
    "predictions = model.predict(nonPPINumerizedList) #Make predictions on NonPPIs\n",
    "\n",
    "results = []\n",
    "for prediction,  nonPPI in zip(predictions, nonPPIList):\n",
    "    if prediction >= 900:\n",
    "        results.append(nonPPI)\n",
    "        \n",
    "results = np.array(results)\n",
    "\n",
    "print 'Predicted PPI List:\\n', results\n",
    "print 'Shape: ', results.shape\n",
    "\n",
    "fileName = 'Data/Results/PredictionResultsPPIs.txt'\n",
    "#np.savetxt(fileName, results, fmt='%s', sep='\\t')\n",
    "pd.DataFrame(results).to_csv(fileName, sep='\\t', header=None, index=False)"
   ]
  },
  {
   "cell_type": "markdown",
   "metadata": {},
   "source": [
    "### Results\n",
    "As you can see above, we have our results comprising of 287 PPIs. These were selected with the criteria that they be predicted to have PPI scores of 900 or greater, meaning that they  fall in the class of 900 or 950. Whether this is the best approach is debatable since the ML only looks at the scores as classes and not actual weighted values."
   ]
  }
 ],
 "metadata": {
  "kernelspec": {
   "display_name": "Python 2",
   "language": "python",
   "name": "python2"
  },
  "language_info": {
   "codemirror_mode": {
    "name": "ipython",
    "version": 2
   },
   "file_extension": ".py",
   "mimetype": "text/x-python",
   "name": "python",
   "nbconvert_exporter": "python",
   "pygments_lexer": "ipython2",
   "version": "2.7.13"
  }
 },
 "nbformat": 4,
 "nbformat_minor": 2
}
