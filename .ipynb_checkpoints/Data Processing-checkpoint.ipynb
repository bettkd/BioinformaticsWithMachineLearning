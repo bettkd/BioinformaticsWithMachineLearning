{
 "cells": [
  {
   "cell_type": "markdown",
   "metadata": {},
   "source": [
    "### Get complimentary PPIs (nonPPIs)\n",
    "\n",
    "From a set of all possible pairs of proteins, we need to know which are not members of our set of PPIs.\n",
    "We refer to them as nonPPIs set. It is from this set that we can identify our missing PPIs.\n",
    "\n",
    "The PPIs in the original data is converted to numeric values for easier evaluation with machinine learning models\n",
    "\n",
    "Also, the output is numerized for future processing.\n",
    "\n",
    "For this, we need the ```Asthma and Allergy``` dataset containing 1425 PPIs"
   ]
  },
  {
   "cell_type": "code",
   "execution_count": 1,
   "metadata": {},
   "outputs": [],
   "source": [
    "import csv\n",
    "import itertools\n",
    "\n",
    "file = 'Data/Allergy_and_Asthma.txt'\n",
    "#sample = 'sample.txt'\n",
    "\n",
    "PPIs = []\n",
    "ppiScores = []\n",
    "with open(file, 'r') as f:\n",
    "    reader = csv.reader(f, delimiter = '\\t')\n",
    "    for p1, p2, score in reader:\n",
    "        PPIs.append((p1, p2))\n",
    "        ppiScores.append(score)\n",
    "\n",
    "uniqueProts = list(set([i for p in PPIs for i in p]))\n",
    "\n",
    "# repesent each proteins as a number\n",
    "protIndextDict = {k: v for v, k in enumerate(uniqueProts)}\n",
    "numerizedProt = [(protIndextDict[p1], protIndextDict[p2]) for (p1, p2) in PPIs]\n",
    "\n",
    "protCombinations = itertools.combinations(uniqueProts, 2)\n",
    "_protCombinations = itertools.combinations(uniqueProts, 2) # Copy for printing later\n",
    "numerizedProtCombinations = itertools.combinations(range(len(uniqueProts)), 2)\n",
    "_numerizedProtCombinations = itertools.combinations(range(len(uniqueProts)), 2) # Copy for printing later\n",
    "\n",
    " \n",
    "nonPPIs = list(set(protCombinations) - set(PPIs))\n",
    "numerizedNonPPIs = list(set(numerizedProtCombinations) - set(numerizedProt))\n",
    "\n",
    "numerizedPPIs = []\n",
    "for prot, score in itertools.izip(numerizedProt, ppiScores):\n",
    "    _score = int(100 * round(float(int(score)/100))) #Rounding off to nearest 100 to reduces number of classes\n",
    "    numerizedPPIs.append(prot + (_score,))\n",
    "\n",
    "def writeToFile(filename, data):\n",
    "    with open(filename, 'w') as f:\n",
    "        writer = csv.writer(f, delimiter='\\t')\n",
    "        [writer.writerow(l) for l in data]\n",
    "    \n",
    "    \n",
    "#outputSample = 'sample_nonPPIs.txt'\n",
    "output = [\n",
    "            ('Data/Processed/Numerized_Allergy_and_Asthma.txt', numerizedPPIs),\n",
    "            ('Data/Processed/Allergy_and_Asthma_nonPPIs.txt', nonPPIs),\n",
    "             ('Data/Processed/Numerized_Allergy_and_Asthma_nonPPIs.txt', numerizedNonPPIs)\n",
    "        ]\n",
    "\n",
    "for filename, data in output:\n",
    "    writeToFile(filename, data)\n",
    "    "
   ]
  },
  {
   "cell_type": "markdown",
   "metadata": {},
   "source": [
    "### Peek at the variables in the script\n",
    "Below is a print out preview of the variables in the above script to help understand the process.\n",
    "The decision to arbitraritly round off the PPI scores for the numerized PPIs to the nearest 100 is to create at most 10 classes in which to predict upon. Each Y value (PPI score) is a class, and the fewer, the more accurately the machine can classify the data"
   ]
  },
  {
   "cell_type": "code",
   "execution_count": 2,
   "metadata": {},
   "outputs": [
    {
     "name": "stdout",
     "output_type": "stream",
     "text": [
      "PPIs:\n",
      "[['CCL11' 'CCR3']\n",
      " ['CCL17' 'CCR4']\n",
      " ['CCL22' 'CCR4']\n",
      " ..., \n",
      " ['CHIA' 'IL4']\n",
      " ['FCER1A' 'PPARG']\n",
      " ['IL2RA' 'RNASE2']]\n",
      "Shape:  (1425L, 2L)\n"
     ]
    }
   ],
   "source": [
    "import numpy as np\n",
    "_PPIs = np.array(PPIs)\n",
    "print 'PPIs:\\n', _PPIs\n",
    "print 'Shape: ', _PPIs.shape"
   ]
  },
  {
   "cell_type": "code",
   "execution_count": 3,
   "metadata": {},
   "outputs": [
    {
     "name": "stdout",
     "output_type": "stream",
     "text": [
      "PPI Scores:  ['999' '999' '999' ..., '151' '151' '151']\n",
      "Shape:  (1425L,)\n"
     ]
    }
   ],
   "source": [
    "_ppiScores = np.array(ppiScores)\n",
    "print 'PPI Scores: ', _ppiScores\n",
    "print 'Shape: ', _ppiScores.shape"
   ]
  },
  {
   "cell_type": "code",
   "execution_count": 4,
   "metadata": {},
   "outputs": [
    {
     "name": "stdout",
     "output_type": "stream",
     "text": [
      "Unique Proteins:  ['CCL2' 'FOXP3' 'PDCD1' 'CRLF2' 'IL1RL1' 'EPX' 'CCL5' 'TBX21' 'CCL8'\n",
      " 'IL12B' 'IL12A' 'IL21' 'LTB4R' 'CCR3' 'CCR4' 'ADAM33' 'IFNGR2' 'TSLP'\n",
      " 'CCR8' 'CD40LG' 'CLCA1' 'MS4A2' 'IL17A' 'STAT6' 'CHIA' 'FCER1A' 'PRG2'\n",
      " 'CPA3' 'AREG' 'CHI3L1' 'RORC' 'STAT5A' 'IL2RA' 'CYSLTR1' 'RNASE3'\n",
      " 'TNFRSF4' 'CCL22' 'ICOS' 'CCL24' 'CCL26' 'TGFB1' 'IL5RA' 'RNASE2' 'IL4R'\n",
      " 'IL13RA2' 'IFNG' 'ALOX5' 'MAF' 'RETNLB' 'CLC' 'PMCH' 'PPARG' 'CMA1'\n",
      " 'IL3RA' 'IL33' 'SATB1' 'IL31' 'GPR44' 'KITLG' 'CSF3R' 'GATA3' 'MRC1'\n",
      " 'IL18' 'CCL11' 'IL13RA1' 'BCL6' 'POSTN' 'CCL17' 'IL10' 'ARG1' 'IL13'\n",
      " 'CSF2' 'KIT' 'ADRB2' 'IL4' 'IL5' 'SIGLEC8' 'IL3' 'MMP9' 'IL25' 'TPSAB1'\n",
      " 'TNFSF4' 'IL17RB' 'IL9']\n",
      "Shape:  (84L,)\n"
     ]
    }
   ],
   "source": [
    "_uniqueProts = np.array(uniqueProts)\n",
    "print 'Unique Proteins: ', _uniqueProts\n",
    "print 'Shape: ', _uniqueProts.shape"
   ]
  },
  {
   "cell_type": "code",
   "execution_count": 5,
   "metadata": {},
   "outputs": [
    {
     "name": "stdout",
     "output_type": "stream",
     "text": [
      "Mapping of Protein to Numeric Value:  {'CCL2': 0, 'FOXP3': 1, 'IL13': 70, 'CRLF2': 3, 'IL1RL1': 4, 'EPX': 5, 'CCL5': 6, 'TBX21': 7, 'CCL8': 8, 'IL13RA2': 44, 'IL12B': 9, 'IL12A': 10, 'IL21': 11, 'LTB4R': 12, 'CCR3': 13, 'CCR4': 14, 'ADAM33': 15, 'IFNGR2': 16, 'TSLP': 17, 'CCR8': 18, 'CD40LG': 19, 'CLCA1': 20, 'MS4A2': 21, 'CYSLTR1': 33, 'STAT6': 23, 'CHIA': 24, 'FCER1A': 25, 'CPA3': 27, 'CHI3L1': 29, 'RORC': 30, 'ADRB2': 73, 'GATA3': 60, 'IFNG': 45, 'TNFRSF4': 35, 'CCL22': 36, 'ICOS': 37, 'CCL24': 38, 'PDCD1': 2, 'TGFB1': 40, 'TNFSF4': 81, 'RNASE3': 34, 'RNASE2': 42, 'IL17A': 22, 'AREG': 28, 'IL5RA': 41, 'ALOX5': 46, 'MMP9': 78, 'IL4': 74, 'CLC': 49, 'PMCH': 50, 'PPARG': 51, 'IL4R': 43, 'IL9': 83, 'IL3RA': 53, 'IL33': 54, 'SATB1': 55, 'IL31': 56, 'GPR44': 57, 'KITLG': 58, 'CSF3R': 59, 'RETNLB': 48, 'MRC1': 61, 'IL18': 62, 'IL2RA': 32, 'IL13RA1': 64, 'BCL6': 65, 'POSTN': 66, 'IL10': 68, 'ARG1': 69, 'CCL17': 67, 'CMA1': 52, 'CSF2': 71, 'CCL11': 63, 'STAT5A': 31, 'IL5': 75, 'SIGLEC8': 76, 'IL3': 77, 'MAF': 47, 'IL25': 79, 'TPSAB1': 80, 'CCL26': 39, 'KIT': 72, 'IL17RB': 82, 'PRG2': 26}\n",
      "Count:  84\n"
     ]
    }
   ],
   "source": [
    "print 'Mapping of Protein to Numeric Value: ', protIndextDict\n",
    "print 'Count: ', len(protIndextDict)"
   ]
  },
  {
   "cell_type": "code",
   "execution_count": 6,
   "metadata": {},
   "outputs": [
    {
     "name": "stdout",
     "output_type": "stream",
     "text": [
      "Numerized PPIs:\n",
      "Shape [[63 13]\n",
      " [67 14]\n",
      " [36 14]\n",
      " ..., \n",
      " [24 74]\n",
      " [25 51]\n",
      " [32 42]]\n"
     ]
    }
   ],
   "source": [
    "_numerizedProt = np.array(numerizedProt)\n",
    "print 'Numerized PPIs:\\n', \n",
    "print 'Shape', _numerizedProt"
   ]
  },
  {
   "cell_type": "code",
   "execution_count": 7,
   "metadata": {},
   "outputs": [
    {
     "name": "stdout",
     "output_type": "stream",
     "text": [
      "All possible PPI combinations:\n",
      "[['CCL2' 'FOXP3']\n",
      " ['CCL2' 'PDCD1']\n",
      " ['CCL2' 'CRLF2']\n",
      " ..., \n",
      " ['TNFSF4' 'IL17RB']\n",
      " ['TNFSF4' 'IL9']\n",
      " ['IL17RB' 'IL9']]\n",
      "Shape:  (3486L, 2L)\n"
     ]
    }
   ],
   "source": [
    "__protCombinations = np.array(list(_protCombinations))\n",
    "print 'All possible PPI combinations:\\n', __protCombinations\n",
    "print 'Shape: ', __protCombinations.shape"
   ]
  },
  {
   "cell_type": "code",
   "execution_count": 8,
   "metadata": {},
   "outputs": [
    {
     "name": "stdout",
     "output_type": "stream",
     "text": [
      "All possible PPI combinations (Numerized):\n",
      "[[ 0  1]\n",
      " [ 0  2]\n",
      " [ 0  3]\n",
      " ..., \n",
      " [81 82]\n",
      " [81 83]\n",
      " [82 83]]\n",
      "Shape:  (3486L, 2L)\n"
     ]
    }
   ],
   "source": [
    "__numerizedProtCombinations = np.array(list(_numerizedProtCombinations))\n",
    "print 'All possible PPI combinations (Numerized):\\n', __numerizedProtCombinations\n",
    "print 'Shape: ', __numerizedProtCombinations.shape"
   ]
  },
  {
   "cell_type": "code",
   "execution_count": 9,
   "metadata": {},
   "outputs": [
    {
     "name": "stdout",
     "output_type": "stream",
     "text": [
      "List of Non-PPIs:\n",
      "[['RNASE3' 'TPSAB1']\n",
      " ['RETNLB' 'CSF3R']\n",
      " ['PDCD1' 'IL5']\n",
      " ..., \n",
      " ['CCL2' 'CYSLTR1']\n",
      " ['CCL8' 'CSF3R']\n",
      " ['CCR8' 'SIGLEC8']]\n",
      "Shape:  (2737L, 2L)\n"
     ]
    }
   ],
   "source": [
    "_nonPPIs = np.array(nonPPIs)\n",
    "print 'List of Non-PPIs:\\n', _nonPPIs\n",
    "print 'Shape: ', _nonPPIs.shape"
   ]
  },
  {
   "cell_type": "code",
   "execution_count": 10,
   "metadata": {},
   "outputs": [
    {
     "name": "stdout",
     "output_type": "stream",
     "text": [
      "List of Non-PPIs (Numerized):\n",
      "[[32 54]\n",
      " [21 28]\n",
      " [ 4 36]\n",
      " ..., \n",
      " [ 8 80]\n",
      " [28 51]\n",
      " [27 75]]\n",
      "Shape:  (2737L, 2L)\n"
     ]
    }
   ],
   "source": [
    "_numerizedNonPPIs = np.array(numerizedNonPPIs)\n",
    "print 'List of Non-PPIs (Numerized):\\n', _numerizedNonPPIs\n",
    "print 'Shape: ', _numerizedNonPPIs.shape"
   ]
  },
  {
   "cell_type": "code",
   "execution_count": 11,
   "metadata": {},
   "outputs": [
    {
     "name": "stdout",
     "output_type": "stream",
     "text": [
      "List of PPIs with Scores (Numerized):\n",
      "[[ 63  13 900]\n",
      " [ 67  14 900]\n",
      " [ 36  14 900]\n",
      " ..., \n",
      " [ 24  74 100]\n",
      " [ 25  51 100]\n",
      " [ 32  42 100]]\n",
      "Shape:  (1425L, 3L)\n"
     ]
    }
   ],
   "source": [
    "_numerizedPPIs = np.array(numerizedPPIs)\n",
    "print 'List of PPIs with Scores (Numerized):\\n', _numerizedPPIs\n",
    "print 'Shape: ', _numerizedPPIs.shape"
   ]
  }
 ],
 "metadata": {
  "kernelspec": {
   "display_name": "Python 2",
   "language": "python",
   "name": "python2"
  },
  "language_info": {
   "codemirror_mode": {
    "name": "ipython",
    "version": 2
   },
   "file_extension": ".py",
   "mimetype": "text/x-python",
   "name": "python",
   "nbconvert_exporter": "python",
   "pygments_lexer": "ipython2",
   "version": "2.7.13"
  }
 },
 "nbformat": 4,
 "nbformat_minor": 2
}
